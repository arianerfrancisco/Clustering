{
 "cells": [
  {
   "cell_type": "markdown",
   "id": "31531263",
   "metadata": {},
   "source": [
    "**Tarefa de Agrupamento**\n",
    "\n",
    "A ideia de agrupar objetos similares é antiga e a intenção é que se coloque, na mesma categoria, grupo ou cluster, os objetos que possuem maior similaridade."
   ]
  },
  {
   "cell_type": "code",
   "execution_count": null,
   "id": "e5dac803",
   "metadata": {},
   "outputs": [],
   "source": []
  }
 ],
 "metadata": {
  "kernelspec": {
   "display_name": "Python 3",
   "language": "python",
   "name": "python3"
  },
  "language_info": {
   "codemirror_mode": {
    "name": "ipython",
    "version": 3
   },
   "file_extension": ".py",
   "mimetype": "text/x-python",
   "name": "python",
   "nbconvert_exporter": "python",
   "pygments_lexer": "ipython3",
   "version": "3.8.8"
  }
 },
 "nbformat": 4,
 "nbformat_minor": 5
}
