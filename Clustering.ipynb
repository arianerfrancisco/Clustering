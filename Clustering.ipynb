{
 "cells": [
  {
   "cell_type": "markdown",
   "id": "815bb381",
   "metadata": {},
   "source": [
    "**Tarefa de Agrupamento**\n",
    "\n",
    "A ideia de agrupar objetos similares é antiga e a intenção é que se coloque, na mesma categoria, grupo ou cluster, os objetos que possuem maior similaridade.\n",
    "Clustering: é o processo de buscar padrões nos dados, não muito diferente no que é feito pelos seres humanos. É uma atividade de aprendizagem não supervisonada que divide automaticamente os dados em cluters ou grupos de itens semelhantes. O algoritmo faz essa classificão sem saber previamente como a classificação seria. Clustering é usado para a descoberta de cp"
   ]
  },
  {
   "cell_type": "code",
   "execution_count": 5,
   "id": "efff0385",
   "metadata": {},
   "outputs": [],
   "source": [
    "import pandas as pd\n",
    "from sklearn.preprocessing import MinMaxScaler\n",
    "from imblearn.over_sampling import SMOTE\n",
    "from sklearn.model_selection import train_test_split\n",
    "from sklearn.neighbors import KNeighborsClassifier\n",
    "from sklearn.metrics import accuracy_score, recall_score, precision_score, confusion_matrix, f1_score\n",
    "from sklearn.tree import DecisionTreeClassifier\n",
    "from sklearn.ensemble import RandomForestClassifier\n",
    "%matplotlib inline"
   ]
  },
  {
   "cell_type": "code",
   "execution_count": null,
   "id": "d06b34e0",
   "metadata": {},
   "outputs": [],
   "source": []
  },
  {
   "cell_type": "code",
   "execution_count": null,
   "id": "74e0fdd3",
   "metadata": {},
   "outputs": [],
   "source": []
  },
  {
   "cell_type": "code",
   "execution_count": null,
   "id": "96670366",
   "metadata": {},
   "outputs": [],
   "source": []
  }
 ],
 "metadata": {
  "kernelspec": {
   "display_name": "Python 3",
   "language": "python",
   "name": "python3"
  },
  "language_info": {
   "codemirror_mode": {
    "name": "ipython",
    "version": 3
   },
   "file_extension": ".py",
   "mimetype": "text/x-python",
   "name": "python",
   "nbconvert_exporter": "python",
   "pygments_lexer": "ipython3",
   "version": "3.8.8"
  }
 },
 "nbformat": 4,
 "nbformat_minor": 5
}
